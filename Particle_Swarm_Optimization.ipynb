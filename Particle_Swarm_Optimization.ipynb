{
 "cells": [
  {
   "cell_type": "code",
   "execution_count": 2,
   "id": "df968a9c",
   "metadata": {},
   "outputs": [],
   "source": [
    "import numpy as np\n",
    "import pandas as pd\n",
    "import re\n",
    "import os"
   ]
  },
  {
   "cell_type": "code",
   "execution_count": 4,
   "id": "6009825d",
   "metadata": {},
   "outputs": [],
   "source": [
    "import seaborn as sns\n",
    "import matplotlib.pyplot as plt\n",
    "from matplotlib import animation, rc\n",
    "%matplotlib inline"
   ]
  },
  {
   "cell_type": "code",
   "execution_count": 8,
   "id": "d4f40579",
   "metadata": {},
   "outputs": [],
   "source": [
    "from matplotlib.animation import FuncAnimation\n",
    "\n",
    "import warnings # supress warnings\n",
    "warnings.filterwarnings('ignore')\n",
    "from sklearn.model_selection import cross_val_predict, train_test_split\n",
    "from sklearn.metrics import mean_absolute_error, mean_squared_error, r2_score, mean_absolute_percentage_error"
   ]
  },
  {
   "cell_type": "code",
   "execution_count": 9,
   "id": "f053f0fb",
   "metadata": {},
   "outputs": [],
   "source": [
    "##################################### Data ##########################################################\n",
    "\n",
    "df = pd.read_csv(\"Hardness2.csv\")\n",
    " ############################################ Data scaling############################################\n",
    "df2 = df.copy()\n",
    "df2['HV'] = df2['HV']/1000"
   ]
  },
  {
   "cell_type": "code",
   "execution_count": 11,
   "id": "8f0e6b59",
   "metadata": {},
   "outputs": [
    {
     "name": "stdout",
     "output_type": "stream",
     "text": [
      "               Al          Co          Cr          Fe          Ni          Cu  \\\n",
      "count  377.000000  377.000000  377.000000  377.000000  377.000000  377.000000   \n",
      "mean     0.108876    0.127787    0.117955    0.142139    0.148666    0.066057   \n",
      "std      0.116193    0.120799    0.117339    0.116280    0.122005    0.116322   \n",
      "min      0.000000    0.000000    0.000000    0.000000    0.000000    0.000000   \n",
      "25%      0.000000    0.000000    0.000000    0.000000    0.000000    0.000000   \n",
      "50%      0.085710    0.158730    0.153846    0.166666    0.166670    0.000000   \n",
      "75%      0.190476    0.196078    0.190470    0.200000    0.200000    0.147058   \n",
      "max      0.800000    0.818180    0.818180    0.818180    0.818180    0.818180   \n",
      "\n",
      "               Mn          Ti           V          Nb  ...          Ta  \\\n",
      "count  377.000000  377.000000  377.000000  377.000000  ...  377.000000   \n",
      "mean     0.022915    0.071840    0.042363    0.052659  ...    0.017359   \n",
      "std      0.066860    0.101248    0.083534    0.096080  ...    0.056577   \n",
      "min      0.000000    0.000000    0.000000    0.000000  ...    0.000000   \n",
      "25%      0.000000    0.000000    0.000000    0.000000  ...    0.000000   \n",
      "50%      0.000000    0.000000    0.000000    0.000000  ...    0.000000   \n",
      "75%      0.000000    0.166666    0.000000    0.025100  ...    0.000000   \n",
      "max      0.333300    0.416666    0.428571    0.416666  ...    0.250000   \n",
      "\n",
      "                W     Be     Pd     Pt     Rh     Ir     Au     Ag          HV  \n",
      "count  377.000000  377.0  377.0  377.0  377.0  377.0  377.0  377.0  253.000000  \n",
      "mean     0.004690    0.0    0.0    0.0    0.0    0.0    0.0    0.0  460.538340  \n",
      "std      0.032031    0.0    0.0    0.0    0.0    0.0    0.0    0.0  185.769704  \n",
      "min      0.000000    0.0    0.0    0.0    0.0    0.0    0.0    0.0  109.000000  \n",
      "25%      0.000000    0.0    0.0    0.0    0.0    0.0    0.0    0.0  304.000000  \n",
      "50%      0.000000    0.0    0.0    0.0    0.0    0.0    0.0    0.0  487.000000  \n",
      "75%      0.000000    0.0    0.0    0.0    0.0    0.0    0.0    0.0  591.000000  \n",
      "max      0.250000    0.0    0.0    0.0    0.0    0.0    0.0    0.0  905.000000  \n",
      "\n",
      "[8 rows x 32 columns]\n"
     ]
    }
   ],
   "source": [
    "print(df.describe())"
   ]
  },
  {
   "cell_type": "code",
   "execution_count": 10,
   "id": "717a8a03",
   "metadata": {},
   "outputs": [
    {
     "ename": "NameError",
     "evalue": "name 'X' is not defined",
     "output_type": "error",
     "traceback": [
      "\u001b[1;31m---------------------------------------------------------------------------\u001b[0m",
      "\u001b[1;31mNameError\u001b[0m                                 Traceback (most recent call last)",
      "\u001b[1;32m~\\AppData\\Local\\Temp\\ipykernel_14608\\1307703447.py\u001b[0m in \u001b[0;36m<module>\u001b[1;34m\u001b[0m\n\u001b[0;32m      1\u001b[0m \u001b[1;31m######################### Train and test data splitting ################################################\u001b[0m\u001b[1;33m\u001b[0m\u001b[1;33m\u001b[0m\u001b[1;33m\u001b[0m\u001b[0m\n\u001b[0;32m      2\u001b[0m \u001b[1;32mfrom\u001b[0m \u001b[0msklearn\u001b[0m\u001b[1;33m.\u001b[0m\u001b[0mmodel_selection\u001b[0m \u001b[1;32mimport\u001b[0m \u001b[0mtrain_test_split\u001b[0m\u001b[1;33m\u001b[0m\u001b[1;33m\u001b[0m\u001b[0m\n\u001b[1;32m----> 3\u001b[1;33m \u001b[0mX_train\u001b[0m\u001b[1;33m,\u001b[0m \u001b[0mX_test\u001b[0m\u001b[1;33m,\u001b[0m \u001b[0my_train\u001b[0m\u001b[1;33m,\u001b[0m \u001b[0my_test\u001b[0m \u001b[1;33m=\u001b[0m \u001b[0mtrain_test_split\u001b[0m\u001b[1;33m(\u001b[0m\u001b[0mX\u001b[0m\u001b[1;33m,\u001b[0m \u001b[0my\u001b[0m\u001b[1;33m,\u001b[0m \u001b[0mtest_size\u001b[0m \u001b[1;33m=\u001b[0m \u001b[1;36m0.20\u001b[0m\u001b[1;33m,\u001b[0m  \u001b[0mrandom_state\u001b[0m\u001b[1;33m=\u001b[0m\u001b[1;36m1\u001b[0m\u001b[1;33m)\u001b[0m\u001b[1;33m\u001b[0m\u001b[1;33m\u001b[0m\u001b[0m\n\u001b[0m",
      "\u001b[1;31mNameError\u001b[0m: name 'X' is not defined"
     ]
    }
   ],
   "source": [
    "######################### Train and test data splitting ################################################\n",
    "from sklearn.model_selection import train_test_split\n",
    "X_train, X_test, y_train, y_test = train_test_split(X, y, test_size = 0.20,  random_state=1)"
   ]
  }
 ],
 "metadata": {
  "kernelspec": {
   "display_name": "Python 3 (ipykernel)",
   "language": "python",
   "name": "python3"
  },
  "language_info": {
   "codemirror_mode": {
    "name": "ipython",
    "version": 3
   },
   "file_extension": ".py",
   "mimetype": "text/x-python",
   "name": "python",
   "nbconvert_exporter": "python",
   "pygments_lexer": "ipython3",
   "version": "3.7.13"
  }
 },
 "nbformat": 4,
 "nbformat_minor": 5
}
